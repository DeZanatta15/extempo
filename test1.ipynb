{
 "cells": [
  {
   "cell_type": "code",
   "execution_count": 1,
   "metadata": {},
   "outputs": [
    {
     "ename": "ImportError",
     "evalue": "cannot import name 'update_rule' from 'cython_3_0' (d:\\school\\high_performance_computing\\extemporaneous\\cython_3_0.cp312-win_amd64.pyd)",
     "output_type": "error",
     "traceback": [
      "\u001b[1;31m---------------------------------------------------------------------------\u001b[0m",
      "\u001b[1;31mImportError\u001b[0m                               Traceback (most recent call last)",
      "Cell \u001b[1;32mIn[1], line 9\u001b[0m\n\u001b[0;32m      6\u001b[0m \u001b[38;5;28;01mfrom\u001b[39;00m \u001b[38;5;21;01mcython_2_0\u001b[39;00m \u001b[38;5;28;01mimport\u001b[39;00m update_rule \u001b[38;5;28;01mas\u001b[39;00m upr2\n\u001b[0;32m      8\u001b[0m \u001b[38;5;28;01mfrom\u001b[39;00m \u001b[38;5;21;01mcython_3_0\u001b[39;00m \u001b[38;5;28;01mimport\u001b[39;00m update \u001b[38;5;28;01mas\u001b[39;00m up3\n\u001b[1;32m----> 9\u001b[0m \u001b[38;5;28;01mfrom\u001b[39;00m \u001b[38;5;21;01mcython_3_0\u001b[39;00m \u001b[38;5;28;01mimport\u001b[39;00m update_rule \u001b[38;5;28;01mas\u001b[39;00m upr3\n\u001b[0;32m     11\u001b[0m \u001b[38;5;28;01mfrom\u001b[39;00m \u001b[38;5;21;01mcython_4_0\u001b[39;00m \u001b[38;5;28;01mimport\u001b[39;00m update \u001b[38;5;28;01mas\u001b[39;00m up4\n\u001b[0;32m     12\u001b[0m \u001b[38;5;28;01mfrom\u001b[39;00m \u001b[38;5;21;01mcython_4_0\u001b[39;00m \u001b[38;5;28;01mimport\u001b[39;00m update_rule \u001b[38;5;28;01mas\u001b[39;00m upr4\n",
      "\u001b[1;31mImportError\u001b[0m: cannot import name 'update_rule' from 'cython_3_0' (d:\\school\\high_performance_computing\\extemporaneous\\cython_3_0.cp312-win_amd64.pyd)"
     ]
    }
   ],
   "source": [
    "\n",
    "# Import the compiled Cython functions\n",
    "from cython_1_0 import update as up1\n",
    "from cython_1_0 import update_rule as upr1\n",
    "\n",
    "from cython_2_0 import update as up2\n",
    "from cython_2_0 import update_rule as upr2\n",
    "\n",
    "from cython_3_0 import update as up3\n",
    "from cython_3_0 import update_rule as upr3\n",
    "\n",
    "from cython_4_0 import update as up4\n",
    "from cython_4_0 import update_rule as upr4"
   ]
  },
  {
   "cell_type": "code",
   "execution_count": null,
   "metadata": {},
   "outputs": [],
   "source": []
  }
 ],
 "metadata": {
  "kernelspec": {
   "display_name": "Python 3",
   "language": "python",
   "name": "python3"
  },
  "language_info": {
   "codemirror_mode": {
    "name": "ipython",
    "version": 3
   },
   "file_extension": ".py",
   "mimetype": "text/x-python",
   "name": "python",
   "nbconvert_exporter": "python",
   "pygments_lexer": "ipython3",
   "version": "3.12.3"
  }
 },
 "nbformat": 4,
 "nbformat_minor": 2
}
